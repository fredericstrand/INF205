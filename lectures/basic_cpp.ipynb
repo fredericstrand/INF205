{
 "cells": [
  {
   "cell_type": "markdown",
   "metadata": {},
   "source": [
    "# Lecture 1 and 2: Basic c++\n",
    "\n",
    "### Key differences between c++ and Python:\n",
    "- Low-level (access to memory)\n",
    "- Compiled\n",
    "- Static typing\n",
    "- Paralell computing\n",
    "\n"
   ]
  },
  {
   "cell_type": "code",
   "execution_count": null,
   "metadata": {},
   "outputs": [],
   "source": []
  }
 ],
 "metadata": {
  "language_info": {
   "name": "python"
  }
 },
 "nbformat": 4,
 "nbformat_minor": 2
}
